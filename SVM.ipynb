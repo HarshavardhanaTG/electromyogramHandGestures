{
 "cells": [
  {
   "cell_type": "code",
   "execution_count": 1,
   "metadata": {},
   "outputs": [],
   "source": [
    "%load_ext autoreload"
   ]
  },
  {
   "cell_type": "code",
   "execution_count": 2,
   "metadata": {},
   "outputs": [
    {
     "data": {
      "text/plain": [
       "'Results for SVM algorithm in table 6.'"
      ]
     },
     "execution_count": 2,
     "metadata": {},
     "output_type": "execute_result"
    }
   ],
   "source": [
    "\"Results for SVM algorithm in table 6.\""
   ]
  },
  {
   "cell_type": "code",
   "execution_count": 3,
   "metadata": {},
   "outputs": [],
   "source": [
    "import numpy as np\n",
    "import pickle\n",
    "\n",
    "from basicOperations.manifoldOperations import manifoldSVM\n",
    "from sklearn import svm"
   ]
  },
  {
   "cell_type": "code",
   "execution_count": 4,
   "metadata": {},
   "outputs": [],
   "source": [
    "numberSubjects = 91\n",
    "numberChannels = 12\n",
    "numberGestures = 10\n",
    "trialsPerGesture = 36"
   ]
  },
  {
   "cell_type": "code",
   "execution_count": 5,
   "metadata": {},
   "outputs": [],
   "source": [
    "collateData = []\n",
    "\n",
    "for subjectNumber in range(1, 100):\n",
    "    if subjectNumber not in [5, 11, 14, 17, 18, 35, 38, 41]:\n",
    "        name = \"../formattedData/\" + str(subjectNumber) + \".pkl\"\n",
    "        with open(name, \"rb\") as file:\n",
    "            loadedData = pickle.load(file)\n",
    "\n",
    "        Features = loadedData[\"EMG\"]\n",
    "        mean = np.mean(Features, axis = -1)\n",
    "        std = np.std(Features, axis = -1)\n",
    "        normalizedFeatures = (Features - mean[..., np.newaxis])/std[..., np.newaxis]\n",
    "        Labels = loadedData[\"Labels\"]\n",
    "        samples = 2 * loadedData[\"Frequency\"]\n",
    "\n",
    "        Indices =  {0: [], 1: [], 2: [], 3: [], 4: [], 5: [], 6: [], 7: [], 8: [], 9: []}\n",
    "        for i in range(len(Labels)):\n",
    "            Indices[Labels[i]].append(i)\n",
    "\n",
    "        gesturesLabels = np.zeros((numberGestures, trialsPerGesture, numberChannels, numberChannels))\n",
    "        for i in range(numberGestures):\n",
    "            for j in range(trialsPerGesture):\n",
    "                gesturesLabels[i, j] = (1/samples) * normalizedFeatures[Indices[i][j], :, :] @ normalizedFeatures[Indices[i][j], :, :].T\n",
    "        \n",
    "        collateData.append(gesturesLabels)"
   ]
  },
  {
   "cell_type": "code",
   "execution_count": 6,
   "metadata": {},
   "outputs": [
    {
     "name": "stdout",
     "output_type": "stream",
     "text": [
      "(91, 10, 36, 12, 12)\n"
     ]
    }
   ],
   "source": [
    "collateData = np.array(collateData)\n",
    "print(collateData.shape)"
   ]
  },
  {
   "cell_type": "code",
   "execution_count": 7,
   "metadata": {},
   "outputs": [],
   "source": [
    "SVM = manifoldSVM(1)"
   ]
  },
  {
   "cell_type": "code",
   "execution_count": 8,
   "metadata": {},
   "outputs": [
    {
     "data": {
      "text/plain": [
       "'First 18 repeats of each gesture for training and last 18 for testing. 50 - 50 split.'"
      ]
     },
     "execution_count": 8,
     "metadata": {},
     "output_type": "execute_result"
    }
   ],
   "source": [
    "\"\"\"First 18 repeats of each gesture for training and last 18 for testing. 50 - 50 split.\"\"\""
   ]
  },
  {
   "cell_type": "code",
   "execution_count": 9,
   "metadata": {},
   "outputs": [],
   "source": [
    "trainFeatures = np.zeros((numberSubjects, 180, numberChannels, numberChannels))\n",
    "trainLabels = np.zeros((numberSubjects, 180))\n",
    "for subject in range(numberSubjects):\n",
    "    count = 0\n",
    "    for i in range(numberGestures):\n",
    "        trainFeatures[subject, count:count + 18] = collateData[subject, i, :18]\n",
    "        trainLabels[subject, count:count + 18] = [i] * 18\n",
    "        count += 18\n",
    "\n",
    "testFeatures = np.zeros((numberSubjects, 180, numberChannels, numberChannels))\n",
    "testLabels = np.zeros((numberSubjects, 180))\n",
    "for subject in range(numberSubjects):\n",
    "    count = 0\n",
    "    for i in range(numberGestures):\n",
    "        testFeatures[subject, count:count + 18] = collateData[subject, i, 18:]\n",
    "        testLabels[subject, count:count + 18] = [i] * 18\n",
    "        count += 18\n",
    "\n",
    "correctsSplitA = np.zeros((numberSubjects))\n",
    "\n",
    "for subject in range(subject):\n",
    "\n",
    "    clf = svm.SVC(kernel = 'precomputed')\n",
    "\n",
    "    kernelMatrix = SVM.SVM(trainFeatures[subject], trainFeatures[subject])\n",
    "\n",
    "    clf.fit(kernelMatrix, trainLabels[subject])\n",
    "\n",
    "    kernelTest = SVM.SVM(testFeatures[subject], trainFeatures[subject])\n",
    "    prediction = clf.predict(kernelTest)\n",
    "\n",
    "    correctsSplitA[subject] = (np.mean(prediction == testLabels[subject]))"
   ]
  },
  {
   "cell_type": "code",
   "execution_count": 10,
   "metadata": {},
   "outputs": [
    {
     "name": "stdout",
     "output_type": "stream",
     "text": [
      "0.761\n",
      "0.878\n",
      "0.661\n",
      "0.933\n",
      "0.611\n",
      "0.856\n",
      "0.239\n",
      "0.689\n",
      "0.617\n",
      "0.717\n",
      "0.778\n",
      "0.833\n",
      "0.350\n",
      "0.939\n",
      "0.794\n",
      "0.933\n",
      "0.694\n",
      "0.733\n",
      "0.856\n",
      "0.450\n",
      "0.894\n",
      "0.933\n",
      "0.972\n",
      "0.900\n",
      "0.994\n",
      "0.744\n",
      "0.500\n",
      "0.711\n",
      "0.911\n",
      "0.983\n",
      "0.811\n",
      "0.956\n",
      "0.900\n",
      "0.767\n",
      "0.689\n",
      "0.489\n",
      "0.883\n",
      "0.906\n",
      "0.972\n",
      "0.556\n",
      "0.800\n",
      "0.239\n",
      "0.356\n",
      "0.711\n",
      "0.911\n",
      "0.844\n",
      "0.944\n",
      "0.956\n",
      "0.778\n",
      "0.889\n",
      "0.856\n",
      "0.922\n",
      "0.872\n",
      "0.861\n",
      "0.806\n",
      "0.972\n",
      "0.844\n",
      "0.844\n",
      "0.661\n",
      "0.933\n",
      "0.889\n",
      "0.572\n",
      "0.844\n",
      "0.867\n",
      "0.889\n",
      "0.939\n",
      "0.917\n",
      "0.550\n",
      "0.822\n",
      "0.894\n",
      "0.861\n",
      "1.000\n",
      "0.906\n",
      "0.989\n",
      "0.694\n",
      "0.756\n",
      "0.828\n",
      "0.933\n",
      "0.856\n",
      "0.967\n",
      "0.950\n",
      "0.972\n",
      "0.944\n",
      "0.717\n",
      "0.922\n",
      "0.633\n",
      "0.928\n",
      "0.844\n",
      "0.872\n",
      "0.456\n",
      "0.000\n",
      "0.791\n"
     ]
    }
   ],
   "source": [
    "for i in range(numberSubjects):\n",
    "    print(\"{:.3f}\".format(correctsSplitA[i]))\n",
    "print(\"{:.3f}\".format(np.mean(correctsSplitA)))"
   ]
  },
  {
   "cell_type": "code",
   "execution_count": 11,
   "metadata": {},
   "outputs": [
    {
     "data": {
      "text/plain": [
       "'First 27 repeats of each gesture for training and last 9 for testing. 75 - 25 split.'"
      ]
     },
     "execution_count": 11,
     "metadata": {},
     "output_type": "execute_result"
    }
   ],
   "source": [
    "SVM = manifoldSVM(1)\n",
    "\"\"\"First 27 repeats of each gesture for training and last 9 for testing. 75 - 25 split.\"\"\""
   ]
  },
  {
   "cell_type": "code",
   "execution_count": 12,
   "metadata": {},
   "outputs": [],
   "source": [
    "trainFeatures = np.zeros((numberSubjects, 270, numberChannels, numberChannels))\n",
    "trainLabels = np.zeros((numberSubjects, 270))\n",
    "for subject in range(numberSubjects):\n",
    "    count = 0\n",
    "    for i in range(numberGestures):\n",
    "        trainFeatures[subject, count:count + 27] = collateData[subject, i, :27]\n",
    "        trainLabels[subject, count:count + 27] = [i] * 27\n",
    "        count += 27\n",
    "\n",
    "testFeatures = np.zeros((numberSubjects, 90, numberChannels, numberChannels))\n",
    "testLabels = np.zeros((numberSubjects, 90))\n",
    "for subject in range(numberSubjects):\n",
    "    count = 0\n",
    "    for i in range(numberGestures):\n",
    "        testFeatures[subject, count:count + 9] = collateData[subject, i, 27:]\n",
    "        testLabels[subject, count:count + 9] = [i] * 9\n",
    "        count += 9\n",
    "\n",
    "correctsSplitB = np.zeros((numberSubjects))\n",
    "\n",
    "for subject in range(subject):\n",
    "\n",
    "    clf = svm.SVC(kernel = 'precomputed')\n",
    "\n",
    "    kernelMatrix = SVM.SVM(trainFeatures[subject], trainFeatures[subject])\n",
    "\n",
    "    clf.fit(kernelMatrix, trainLabels[subject])\n",
    "\n",
    "    kernelTest = SVM.SVM(testFeatures[subject], trainFeatures[subject])\n",
    "    prediction = clf.predict(kernelTest)\n",
    "\n",
    "    correctsSplitB[subject] = (np.mean(prediction == testLabels[subject]))"
   ]
  },
  {
   "cell_type": "code",
   "execution_count": 13,
   "metadata": {},
   "outputs": [
    {
     "name": "stdout",
     "output_type": "stream",
     "text": [
      "0.789\n",
      "0.867\n",
      "0.711\n",
      "0.944\n",
      "0.722\n",
      "0.789\n",
      "0.289\n",
      "0.644\n",
      "0.644\n",
      "0.778\n",
      "0.800\n",
      "0.889\n",
      "0.400\n",
      "0.933\n",
      "0.844\n",
      "0.944\n",
      "0.867\n",
      "0.822\n",
      "0.900\n",
      "0.544\n",
      "0.944\n",
      "0.956\n",
      "0.989\n",
      "0.978\n",
      "1.000\n",
      "0.733\n",
      "0.578\n",
      "0.844\n",
      "0.911\n",
      "1.000\n",
      "0.967\n",
      "0.978\n",
      "0.922\n",
      "0.778\n",
      "0.833\n",
      "0.556\n",
      "0.856\n",
      "0.900\n",
      "0.944\n",
      "0.700\n",
      "0.900\n",
      "0.278\n",
      "0.256\n",
      "0.789\n",
      "0.978\n",
      "0.889\n",
      "0.944\n",
      "0.967\n",
      "0.911\n",
      "0.900\n",
      "0.933\n",
      "0.922\n",
      "0.878\n",
      "0.889\n",
      "0.811\n",
      "0.956\n",
      "0.856\n",
      "0.889\n",
      "0.700\n",
      "0.956\n",
      "0.933\n",
      "0.589\n",
      "0.900\n",
      "0.911\n",
      "0.900\n",
      "0.956\n",
      "0.911\n",
      "0.711\n",
      "0.856\n",
      "0.956\n",
      "0.900\n",
      "1.000\n",
      "0.967\n",
      "0.989\n",
      "0.789\n",
      "0.778\n",
      "0.844\n",
      "1.000\n",
      "0.833\n",
      "0.944\n",
      "1.000\n",
      "0.989\n",
      "0.989\n",
      "0.722\n",
      "0.967\n",
      "0.789\n",
      "0.956\n",
      "0.800\n",
      "0.911\n",
      "0.533\n",
      "0.000\n",
      "0.829\n"
     ]
    }
   ],
   "source": [
    "for i in range(numberSubjects):\n",
    "    print(\"{:.3f}\".format(correctsSplitB[i]))\n",
    "print(\"{:.3f}\".format(np.mean(correctsSplitB)))"
   ]
  },
  {
   "cell_type": "code",
   "execution_count": 14,
   "metadata": {},
   "outputs": [
    {
     "name": "stdout",
     "output_type": "stream",
     "text": [
      "0.7912698412698411\n",
      "0.8286935286935287\n"
     ]
    }
   ],
   "source": [
    "print(np.mean(correctsSplitA))\n",
    "print(np.mean(correctsSplitB))"
   ]
  },
  {
   "cell_type": "code",
   "execution_count": 15,
   "metadata": {},
   "outputs": [],
   "source": [
    "%autoreload"
   ]
  }
 ],
 "metadata": {
  "kernelspec": {
   "display_name": "emgSpeech",
   "language": "python",
   "name": "python3"
  },
  "language_info": {
   "codemirror_mode": {
    "name": "ipython",
    "version": 3
   },
   "file_extension": ".py",
   "mimetype": "text/x-python",
   "name": "python",
   "nbconvert_exporter": "python",
   "pygments_lexer": "ipython3",
   "version": "3.10.14"
  }
 },
 "nbformat": 4,
 "nbformat_minor": 2
}
