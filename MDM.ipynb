{
 "cells": [
  {
   "cell_type": "code",
   "execution_count": 1,
   "metadata": {},
   "outputs": [],
   "source": [
    "%load_ext autoreload"
   ]
  },
  {
   "cell_type": "code",
   "execution_count": 2,
   "metadata": {},
   "outputs": [
    {
     "data": {
      "text/plain": [
       "'Results for MDM algorithm in table 6. generation of image in figure 6'"
      ]
     },
     "execution_count": 2,
     "metadata": {},
     "output_type": "execute_result"
    }
   ],
   "source": [
    "\"Results for MDM algorithm in table 6. generation of image in figure 6\""
   ]
  },
  {
   "cell_type": "code",
   "execution_count": 3,
   "metadata": {},
   "outputs": [],
   "source": [
    "import numpy as np\n",
    "import pickle\n",
    "\n",
    "from basicOperations.manifoldOperations import matrixDistance, frechetMean, tangentMap"
   ]
  },
  {
   "cell_type": "code",
   "execution_count": 4,
   "metadata": {},
   "outputs": [],
   "source": [
    "numberSubjects = 91\n",
    "numberChannels = 12\n",
    "numberGestures = 10\n",
    "trialsPerGesture = 36"
   ]
  },
  {
   "cell_type": "code",
   "execution_count": 5,
   "metadata": {},
   "outputs": [],
   "source": [
    "collateData = []\n",
    "\n",
    "for subjectNumber in range(1, 100):\n",
    "    if subjectNumber not in [5, 11, 14, 17, 18, 35, 38, 41]:\n",
    "        name = \"../formattedData/\" + str(subjectNumber) + \".pkl\"\n",
    "        with open(name, \"rb\") as file:\n",
    "            loadedData = pickle.load(file)\n",
    "\n",
    "        Features = loadedData[\"EMG\"]\n",
    "        mean = np.mean(Features, axis = -1)\n",
    "        std = np.std(Features, axis = -1)\n",
    "        normalizedFeatures = (Features - mean[..., np.newaxis])/std[..., np.newaxis]\n",
    "        Labels = loadedData[\"Labels\"]\n",
    "        samples = 2 * loadedData[\"Frequency\"]\n",
    "\n",
    "        Indices =  {0: [], 1: [], 2: [], 3: [], 4: [], 5: [], 6: [], 7: [], 8: [], 9: []}\n",
    "        for i in range(len(Labels)):\n",
    "            Indices[Labels[i]].append(i)\n",
    "\n",
    "        gesturesLabels = np.zeros((numberGestures, trialsPerGesture, numberChannels, numberChannels))\n",
    "        for i in range(numberGestures):\n",
    "            for j in range(trialsPerGesture):\n",
    "                gesturesLabels[i, j] = (1/samples) * normalizedFeatures[Indices[i][j], :, :] @ normalizedFeatures[Indices[i][j], :, :].T\n",
    "        \n",
    "        collateData.append(gesturesLabels)"
   ]
  },
  {
   "cell_type": "code",
   "execution_count": 6,
   "metadata": {},
   "outputs": [
    {
     "name": "stdout",
     "output_type": "stream",
     "text": [
      "(91, 10, 36, 12, 12)\n"
     ]
    }
   ],
   "source": [
    "collateData = np.array(collateData)\n",
    "print(collateData.shape)"
   ]
  },
  {
   "cell_type": "code",
   "execution_count": 7,
   "metadata": {},
   "outputs": [],
   "source": [
    "geodesicDistance = matrixDistance()\n",
    "manifoldMean = frechetMean()\n",
    "logMap = tangentMap()"
   ]
  },
  {
   "cell_type": "code",
   "execution_count": 8,
   "metadata": {},
   "outputs": [
    {
     "data": {
      "text/plain": [
       "'First 18 repeats of each gesture for training and last 18 for testing. 50 - 50 split.'"
      ]
     },
     "execution_count": 8,
     "metadata": {},
     "output_type": "execute_result"
    }
   ],
   "source": [
    "\"\"\"First 18 repeats of each gesture for training and last 18 for testing. 50 - 50 split.\"\"\""
   ]
  },
  {
   "cell_type": "code",
   "execution_count": 9,
   "metadata": {},
   "outputs": [],
   "source": [
    "trainCentroid = np.zeros((numberSubjects, numberGestures, numberChannels, numberChannels))\n",
    "\n",
    "for subject in range(numberSubjects):\n",
    "    for i in range(numberGestures):\n",
    "        trainCentroid[subject, i, :, :] = manifoldMean.mean(collateData[subject, i, :18, :, :])\n",
    "\n",
    "testFeatures = np.zeros((numberSubjects, 180, numberChannels, numberChannels))\n",
    "testLabels = np.zeros((numberSubjects, 180))\n",
    "\n",
    "for subject in range(numberSubjects):\n",
    "    count = 0\n",
    "    for i in range(numberGestures):\n",
    "        testFeatures[subject, count:count + 18] = collateData[subject, i, 18:, :, :]\n",
    "        testLabels[subject, count:count + 18] = [i] * 18\n",
    "        count += 18\n",
    "\n",
    "predictLabels = np.zeros((numberSubjects, 180))\n",
    "\n",
    "for subject in range(numberSubjects):\n",
    "    for k in range(180):\n",
    "        distances = np.zeros((numberGestures))\n",
    "        for m in range(numberGestures):\n",
    "            distances[m] = geodesicDistance.distance(testFeatures[subject, k], trainCentroid[subject, m])\n",
    "        predictLabels[subject, k] = np.argmin(distances)\n",
    "\n",
    "correctsSplitA = np.zeros((numberSubjects))\n",
    "\n",
    "for subject in range(numberSubjects):\n",
    "    correct = np.mean((predictLabels[subject] == testLabels[subject]))\n",
    "    correctsSplitA[subject] = correct"
   ]
  },
  {
   "cell_type": "code",
   "execution_count": 10,
   "metadata": {},
   "outputs": [
    {
     "data": {
      "text/plain": [
       "'First 27 repeats of each gesture for training and last 9 for testing. 75 - 25 split.'"
      ]
     },
     "execution_count": 10,
     "metadata": {},
     "output_type": "execute_result"
    }
   ],
   "source": [
    "\"\"\"First 27 repeats of each gesture for training and last 9 for testing. 75 - 25 split.\"\"\""
   ]
  },
  {
   "cell_type": "code",
   "execution_count": 11,
   "metadata": {},
   "outputs": [],
   "source": [
    "trainCentroid = np.zeros((numberSubjects, numberGestures, numberChannels, numberChannels))\n",
    "\n",
    "for subject in range(numberSubjects):\n",
    "    for i in range(numberGestures):\n",
    "        trainCentroid[subject, i, :, :] = manifoldMean.mean(collateData[subject, i, :27, :, :])\n",
    "\n",
    "testFeatures = np.zeros((numberSubjects, 90, numberChannels, numberChannels))\n",
    "testLabels = np.zeros((numberSubjects, 90))\n",
    "\n",
    "for subject in range(numberSubjects):\n",
    "    count = 0\n",
    "    for i in range(numberGestures):\n",
    "        testFeatures[subject, count:count + 9] = collateData[subject, i, 27:, :, :]\n",
    "        testLabels[subject, count:count + 9] = [i] * 9\n",
    "        count += 9\n",
    "\n",
    "predictLabels = np.zeros((numberSubjects, 90))\n",
    "\n",
    "for subject in range(numberSubjects):\n",
    "    for k in range(90):\n",
    "        distances = np.zeros((numberGestures))\n",
    "        for m in range(numberGestures):\n",
    "            distances[m] = geodesicDistance.distance(testFeatures[subject, k], trainCentroid[subject, m])\n",
    "        predictLabels[subject, k] = np.argmin(distances)\n",
    "\n",
    "correctsSplitB = np.zeros((numberSubjects))\n",
    "\n",
    "for subject in range(numberSubjects):\n",
    "    correct = np.mean((predictLabels[subject] == testLabels[subject]))\n",
    "    correctsSplitB[subject] = correct"
   ]
  },
  {
   "cell_type": "code",
   "execution_count": 12,
   "metadata": {},
   "outputs": [
    {
     "data": {
      "text/plain": [
       "'for i in range(numberSubjects):\\n    print(\"{:.3f}\".format(correctsSplitA[i]))\\nprint(\"{:.3f}\".format(np.mean(correctsSplitA)))'"
      ]
     },
     "execution_count": 12,
     "metadata": {},
     "output_type": "execute_result"
    }
   ],
   "source": [
    "\"\"\"for i in range(numberSubjects):\n",
    "    print(\"{:.3f}\".format(correctsSplitA[i]))\n",
    "print(\"{:.3f}\".format(np.mean(correctsSplitA)))\"\"\""
   ]
  },
  {
   "cell_type": "code",
   "execution_count": 13,
   "metadata": {},
   "outputs": [
    {
     "data": {
      "text/plain": [
       "'for i in range(numberSubjects):\\n    print(\"{:.3f}\".format(correctsSplitB[i]))\\nprint(\"{:.3f}\".format(np.mean(correctsSplitB)))'"
      ]
     },
     "execution_count": 13,
     "metadata": {},
     "output_type": "execute_result"
    }
   ],
   "source": [
    "\"\"\"for i in range(numberSubjects):\n",
    "    print(\"{:.3f}\".format(correctsSplitB[i]))\n",
    "print(\"{:.3f}\".format(np.mean(correctsSplitB)))\"\"\""
   ]
  },
  {
   "cell_type": "code",
   "execution_count": 22,
   "metadata": {},
   "outputs": [
    {
     "name": "stdout",
     "output_type": "stream",
     "text": [
      "0.7685592185592185\n",
      "0.7978021978021976\n"
     ]
    }
   ],
   "source": [
    "print(np.mean(correctsSplitA))\n",
    "print(np.mean(correctsSplitB))"
   ]
  },
  {
   "cell_type": "code",
   "execution_count": 14,
   "metadata": {},
   "outputs": [],
   "source": [
    "meanValue = np.zeros((numberSubjects, numberChannels, numberChannels))\n",
    "for i in range(numberSubjects):\n",
    "    meanValue[i] = manifoldMean.mean(collateData[i].reshape(-1, numberChannels, numberChannels))\n",
    "\n",
    "logMapped = np.zeros((numberSubjects, numberGestures, trialsPerGesture, numberChannels, numberChannels))\n",
    "for subject in range(numberSubjects):\n",
    "    for gesture in range(numberGestures):\n",
    "        for repeat in range(trialsPerGesture):\n",
    "            logMapped[subject, gesture, repeat] = logMap.logMap(collateData[subject, gesture, repeat], meanValue[subject])"
   ]
  },
  {
   "cell_type": "code",
   "execution_count": 15,
   "metadata": {},
   "outputs": [],
   "source": [
    "def vectorizeMatrix(matrix):\n",
    "\n",
    "    mask = np.tril(np.ones((numberChannels, numberChannels), dtype = bool))\n",
    "    lowerTriangularParts = matrix[mask]\n",
    "\n",
    "    return lowerTriangularParts"
   ]
  },
  {
   "cell_type": "code",
   "execution_count": 16,
   "metadata": {},
   "outputs": [],
   "source": [
    "VEC = np.zeros((numberSubjects, numberGestures, trialsPerGesture, 78))\n",
    "for subject in range(numberSubjects):\n",
    "    for gesture in range(numberGestures):\n",
    "        for repeat in range(trialsPerGesture):\n",
    "            VEC[subject, gesture, repeat] = vectorizeMatrix(logMapped[subject, gesture, repeat])"
   ]
  },
  {
   "cell_type": "code",
   "execution_count": 17,
   "metadata": {},
   "outputs": [],
   "source": [
    "trainMappedCentroid = np.zeros((numberSubjects, numberGestures, 78))\n",
    "\n",
    "for subject in range(numberSubjects):\n",
    "    for i in range(numberGestures):\n",
    "        trainMappedCentroid[subject, i, :] = np.mean(VEC[subject, i, :18, :], axis = 0)\n",
    "\n",
    "testMappedFeatures = np.zeros((numberSubjects, 180, 78))\n",
    "testMappedLabels = np.zeros((numberSubjects, 180))\n",
    "\n",
    "for subject in range(numberSubjects):\n",
    "    count = 0\n",
    "    for i in range(numberGestures):\n",
    "        testMappedFeatures[subject, count:count + 18] = VEC[subject, i, 18:, :]\n",
    "        testMappedLabels[subject, count:count + 18] = [i] * 18\n",
    "        count += 18\n",
    "\n",
    "predictMappedLabels = np.zeros((numberSubjects, 180))\n",
    "\n",
    "for subject in range(numberSubjects):\n",
    "    for k in range(180):\n",
    "        distances = np.zeros((numberGestures))\n",
    "        for m in range(numberGestures):\n",
    "            distances[m] = np.linalg.norm(testMappedFeatures[subject, k] - trainMappedCentroid[subject, m])\n",
    "        predictMappedLabels[subject, k] = np.argmin(distances)\n",
    "\n",
    "correctsMapped = np.zeros((numberSubjects))\n",
    "\n",
    "for subject in range(numberSubjects):\n",
    "    correct = np.mean((predictMappedLabels[subject] == testMappedLabels[subject]))\n",
    "    correctsMapped[subject] = correct"
   ]
  },
  {
   "cell_type": "code",
   "execution_count": 18,
   "metadata": {},
   "outputs": [
    {
     "name": "stdout",
     "output_type": "stream",
     "text": [
      "0.77008547008547\n"
     ]
    }
   ],
   "source": [
    "print(np.mean(correctsMapped))"
   ]
  },
  {
   "cell_type": "code",
   "execution_count": 19,
   "metadata": {},
   "outputs": [],
   "source": [
    "from matplotlib import font_manager\n",
    "import matplotlib as mpl\n",
    "import matplotlib.pyplot as plt\n",
    "from matplotlib.colors import ListedColormap\n",
    "\n",
    "fontPath = '/usr/share/fonts/truetype/msttcorefonts/Times_New_Roman_Italic.ttf'\n",
    "fontProp = font_manager.FontProperties(fname = fontPath)\n",
    "\n",
    "font_manager.fontManager.addfont(fontPath)\n",
    "mpl.rcParams['font.family'] = fontProp.get_name()"
   ]
  },
  {
   "cell_type": "code",
   "execution_count": 20,
   "metadata": {},
   "outputs": [
    {
     "data": {
      "image/png": "[encoded data removed]",
      "text/plain": [
       "<Figure size 640x480 with 1 Axes>"
      ]
     },
     "metadata": {},
     "output_type": "display_data"
    }
   ],
   "source": [
    "colors = ['#FF0000', '#00FF00', '#0000FF', '#FFFF00', '#00FFFF', '#FF00FF', '#FFA500', '#800080', '#A52A2A', '#FFC0CB']\n",
    "\n",
    "colors = ListedColormap(colors)\n",
    "\n",
    "plt.plot(np.sort(correctsSplitA), np.arange(1,  92)/91, label = \"Manifold MDM\")\n",
    "plt.plot(np.sort(correctsMapped), np.arange(1,  92)/91, label = \"Euclidean MDM\")\n",
    "\n",
    "plt.xlabel('Decoding accuracy', fontproperties = fontProp, fontsize = 12)\n",
    "plt.ylabel('Fraction of subjects below given decoding accuracy', fontproperties = fontProp, fontsize = 12)\n",
    "plt.legend(loc = 'upper left')\n",
    "\"\"\"plt.savefig(\"MDMdecodingAccuracy.eps\", format = \"eps\")\"\"\"\n",
    "plt.show()\n",
    "plt.close()"
   ]
  },
  {
   "cell_type": "code",
   "execution_count": 21,
   "metadata": {},
   "outputs": [],
   "source": [
    "%autoreload"
   ]
  }
 ],
 "metadata": {
  "kernelspec": {
   "display_name": "emgSpeech",
   "language": "python",
   "name": "python3"
  },
  "language_info": {
   "codemirror_mode": {
    "name": "ipython",
    "version": 3
   },
   "file_extension": ".py",
   "mimetype": "text/x-python",
   "name": "python",
   "nbconvert_exporter": "python",
   "pygments_lexer": "ipython3",
   "version": "3.10.14"
  }
 },
 "nbformat": 4,
 "nbformat_minor": 2
}
