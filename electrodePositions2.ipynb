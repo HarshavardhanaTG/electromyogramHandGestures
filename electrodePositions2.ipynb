{
 "cells": [
  {
   "cell_type": "code",
   "execution_count": null,
   "metadata": {},
   "outputs": [],
   "source": [
    "%load_ext autoreload"
   ]
  },
  {
   "cell_type": "code",
   "execution_count": 2,
   "metadata": {},
   "outputs": [],
   "source": [
    "import numpy as np\n",
    "import pickle\n",
    "from scipy.signal import butter, filtfilt\n",
    "\n",
    "from basicOperations.manifoldOperations import matrixDistance, frechetMean, tangentMap"
   ]
  },
  {
   "cell_type": "code",
   "execution_count": null,
   "metadata": {},
   "outputs": [],
   "source": [
    "\"Figure 11. Table 3.\""
   ]
  },
  {
   "cell_type": "code",
   "execution_count": 3,
   "metadata": {},
   "outputs": [],
   "source": [
    "numberSubjects = 91\n",
    "numberChannels = 8\n",
    "numberGestures = 10\n",
    "trialsPerGesture = 36"
   ]
  },
  {
   "cell_type": "code",
   "execution_count": 4,
   "metadata": {},
   "outputs": [],
   "source": [
    "collateData = []\n",
    "Frequency = []\n",
    "\n",
    "for subjectNumber in range(1, 100):\n",
    "    if subjectNumber not in [5, 11, 14, 17, 18, 35, 38, 41]:\n",
    "        name = \"../formattedData/\" + str(subjectNumber) + \".pkl\"\n",
    "        with open(name, \"rb\") as file:\n",
    "            loadedData = pickle.load(file)\n",
    "\n",
    "        Features = loadedData[\"EMG\"]\n",
    "        normalizedFeatures = Features\n",
    "        Labels = loadedData[\"Labels\"]\n",
    "        samples = 2 * loadedData[\"Frequency\"]\n",
    "\n",
    "        Indices =  {0: [], 1: [], 2: [], 3: [], 4: [], 5: [], 6: [], 7: [], 8: [], 9: []}\n",
    "        for i in range(len(Labels)):\n",
    "            Indices[Labels[i]].append(i)\n",
    "\n",
    "        gesturesLabels = np.zeros((numberGestures, trialsPerGesture, numberChannels, 4000))\n",
    "        for i in range(numberGestures):\n",
    "            for j in range(trialsPerGesture):\n",
    "                gesturesLabels[i, j] = normalizedFeatures[Indices[i][j], 4:, :4000]\n",
    "                \n",
    "        collateData.append(gesturesLabels)\n",
    "        Frequency.append(loadedData[\"Frequency\"])"
   ]
  },
  {
   "cell_type": "code",
   "execution_count": 5,
   "metadata": {},
   "outputs": [
    {
     "name": "stdout",
     "output_type": "stream",
     "text": [
      "(91, 10, 36, 8, 4000)\n",
      "(91,)\n"
     ]
    }
   ],
   "source": [
    "collateData = np.array(collateData)\n",
    "Frequency = np.array(Frequency)\n",
    "print(collateData.shape)\n",
    "print(Frequency.shape)"
   ]
  },
  {
   "cell_type": "code",
   "execution_count": 6,
   "metadata": {},
   "outputs": [],
   "source": [
    "geodesicDistance = matrixDistance()\n",
    "manifoldMean = frechetMean()\n",
    "logMap = tangentMap()"
   ]
  },
  {
   "cell_type": "code",
   "execution_count": 7,
   "metadata": {},
   "outputs": [],
   "source": [
    "def butterworthBandpass(lowcut, highcut, fs, order = 3):\n",
    "    nyquist = 0.5 * fs\n",
    "    low = lowcut / nyquist\n",
    "    high = highcut / nyquist\n",
    "    b, a = butter(order, [low, high], btype = 'band')\n",
    "    return b, a\n",
    "\n",
    "def applyBandpassFilter(data, lowcut, highcut, fs, order = 3):\n",
    "    b, a = butterworthBandpass(lowcut, highcut, fs, order = order)\n",
    "    filteredData = filtfilt(b, a, data, axis = -1)\n",
    "    return filteredData"
   ]
  },
  {
   "cell_type": "code",
   "execution_count": 8,
   "metadata": {},
   "outputs": [],
   "source": [
    "frequencies = np.array([[20, 50], [50, 110], [110, 230], [230, 450], [20, 450]])\n",
    "filteredData = np.zeros((5, numberSubjects, numberGestures, trialsPerGesture, numberChannels, 4000))\n",
    "for i in range(len(frequencies)):\n",
    "    for subject in range(numberSubjects):\n",
    "        filteredData[i, subject] = applyBandpassFilter(collateData[subject, :, :, :, :], frequencies[i, 0], frequencies[i, 1], Frequency[subject]) "
   ]
  },
  {
   "cell_type": "code",
   "execution_count": 9,
   "metadata": {},
   "outputs": [],
   "source": [
    "mean = np.mean(filteredData, axis = -1)\n",
    "std = np.std(filteredData, axis = -1)\n",
    "normalizedFilteredData = (filteredData - mean[..., np.newaxis])/std[..., np.newaxis]"
   ]
  },
  {
   "cell_type": "code",
   "execution_count": 10,
   "metadata": {},
   "outputs": [],
   "source": [
    "covarianceMatrices = np.zeros((5, numberSubjects, numberGestures, trialsPerGesture, numberChannels, numberChannels))"
   ]
  },
  {
   "cell_type": "code",
   "execution_count": 11,
   "metadata": {},
   "outputs": [],
   "source": [
    "for f in range(5):\n",
    "    for subject in range(numberSubjects):\n",
    "        for gesture in range(numberGestures):\n",
    "            for repitition in range(trialsPerGesture):\n",
    "                covarianceMatrices[f, subject, gesture, repitition] = 1/4000 * (normalizedFilteredData[f, subject, gesture, repitition, :, :] @ np.transpose(normalizedFilteredData[f, subject, gesture, repitition, :, :]))"
   ]
  },
  {
   "cell_type": "code",
   "execution_count": 12,
   "metadata": {},
   "outputs": [],
   "source": [
    "trainCentroid = np.zeros((5, numberSubjects, numberGestures, numberChannels, numberChannels))\n",
    "\n",
    "for band in range(5):\n",
    "    for subject in range(numberSubjects):\n",
    "        for i in range(numberGestures):\n",
    "            trainCentroid[band, subject, i, :, :] = manifoldMean.mean(covarianceMatrices[band, subject, i, :18, :, :])\n",
    "\n",
    "testFeatures = np.zeros((5, numberSubjects, 180, numberChannels, numberChannels))\n",
    "testLabels = np.zeros((5, numberSubjects, 180))\n",
    "\n",
    "for band in range(5):\n",
    "    for subject in range(numberSubjects):\n",
    "        count = 0\n",
    "        for i in range(numberGestures):\n",
    "            testFeatures[band, subject, count:count + 18] = covarianceMatrices[band, subject, i, 18:, :, :]\n",
    "            testLabels[band, subject, count:count + 18] = [i] * 18\n",
    "            count += 18\n",
    "\n",
    "predictLabels = np.zeros((5, numberSubjects, 180))\n",
    "\n",
    "for band in range(5):\n",
    "    for subject in range(numberSubjects):\n",
    "        for k in range(180):\n",
    "            distances = np.zeros((numberGestures))\n",
    "            for m in range(numberGestures):\n",
    "                distances[m] = geodesicDistance.distance(testFeatures[band, subject, k], trainCentroid[band, subject, m])\n",
    "            predictLabels[band, subject, k] = np.argmin(distances)\n",
    "\n",
    "corrects = np.zeros((5, numberSubjects))\n",
    "\n",
    "for band in range(5):\n",
    "    for subject in range(numberSubjects):\n",
    "        correct = np.mean((predictLabels[band, subject] == testLabels[band, subject]))\n",
    "        corrects[band, subject] = correct"
   ]
  },
  {
   "cell_type": "code",
   "execution_count": 13,
   "metadata": {},
   "outputs": [],
   "source": [
    "from matplotlib import font_manager\n",
    "import matplotlib as mpl\n",
    "import matplotlib.pyplot as plt\n",
    "from matplotlib.colors import ListedColormap\n",
    "\n",
    "fontPath = '/usr/share/fonts/truetype/msttcorefonts/Times_New_Roman_Italic.ttf'\n",
    "fontProp = font_manager.FontProperties(fname = fontPath)\n",
    "\n",
    "font_manager.fontManager.addfont(fontPath)\n",
    "mpl.rcParams['font.family'] = fontProp.get_name()"
   ]
  },
  {
   "cell_type": "code",
   "execution_count": 14,
   "metadata": {},
   "outputs": [
    {
     "name": "stderr",
     "output_type": "stream",
     "text": [
      "The PostScript backend does not support transparency; partially transparent artists will be rendered opaque.\n"
     ]
    },
    {
     "data": {
      "image/png": "[encoded data removed]",
      "text/plain": [
       "<Figure size 640x480 with 1 Axes>"
      ]
     },
     "metadata": {},
     "output_type": "display_data"
    }
   ],
   "source": [
    "colors = ['#FF0000', '#00FF00', '#0000FF', '#00FFFF', '#FF00FF', '#FFA500', '#800080', '#A52A2A', '#FFC0CB']\n",
    "\n",
    "tags = [\" -20 to 50 Hz\", \" -50 to 110 Hz\", \" -110 to 230 Hz\", \" -230 to 450 Hz\", \" -20 to 450 Hz\"]\n",
    "\n",
    "for i in range(5):\n",
    "    plt.plot(np.sort(corrects[i]), np.arange(1,  92)/91, label = tags[i], color = colors[i])\n",
    "\n",
    "plt.xlabel('Decoding accuracy', fontproperties = fontProp, fontsize = 12)\n",
    "plt.ylabel('Fraction of subjects below given decoding accuracy', fontproperties = fontProp, fontsize = 12)\n",
    "plt.legend(loc = 'upper left')\n",
    "plt.savefig(\"decodingAccuracyFrequenciesWith8.eps\", format = \"eps\", bbox_inches = 'tight')\n",
    "plt.show()\n",
    "plt.close()"
   ]
  },
  {
   "cell_type": "code",
   "execution_count": 15,
   "metadata": {},
   "outputs": [
    {
     "name": "stdout",
     "output_type": "stream",
     "text": [
      "(5, 91)\n",
      "[0.54981685 0.65750916 0.67478632 0.66770452 0.67319902]\n"
     ]
    }
   ],
   "source": [
    "print(corrects.shape)\n",
    "print(np.mean(corrects, axis = 1))"
   ]
  },
  {
   "cell_type": "code",
   "execution_count": 19,
   "metadata": {},
   "outputs": [
    {
     "name": "stdout",
     "output_type": "stream",
     "text": [
      "(5, 91, 10, 36, 8, 4000)\n"
     ]
    }
   ],
   "source": [
    "print(filteredData.shape)"
   ]
  },
  {
   "cell_type": "code",
   "execution_count": 16,
   "metadata": {},
   "outputs": [
    {
     "name": "stdout",
     "output_type": "stream",
     "text": [
      "(5, 91)\n"
     ]
    }
   ],
   "source": [
    "power = np.square(filteredData)\n",
    "meanPower = np.mean(power, axis = (2, 3, 4, 5))\n",
    "print(meanPower.shape)"
   ]
  },
  {
   "cell_type": "code",
   "execution_count": 17,
   "metadata": {},
   "outputs": [],
   "source": [
    "averagePower = np.mean(meanPower, axis = 1)"
   ]
  },
  {
   "cell_type": "code",
   "execution_count": 20,
   "metadata": {},
   "outputs": [
    {
     "name": "stdout",
     "output_type": "stream",
     "text": [
      "[0.6946379  0.1915526  0.07490066 0.03890883]\n"
     ]
    }
   ],
   "source": [
    "print(averagePower[:4]/np.sum(averagePower[:4]))"
   ]
  }
 ],
 "metadata": {
  "kernelspec": {
   "display_name": "emgSpeech",
   "language": "python",
   "name": "python3"
  },
  "language_info": {
   "codemirror_mode": {
    "name": "ipython",
    "version": 3
   },
   "file_extension": ".py",
   "mimetype": "text/x-python",
   "name": "python",
   "nbconvert_exporter": "python",
   "pygments_lexer": "ipython3",
   "version": "3.10.14"
  }
 },
 "nbformat": 4,
 "nbformat_minor": 2
}
