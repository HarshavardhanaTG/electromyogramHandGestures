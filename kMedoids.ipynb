{
 "cells": [
  {
   "cell_type": "code",
   "execution_count": null,
   "metadata": {},
   "outputs": [],
   "source": [
    "%load_ext autoreload"
   ]
  },
  {
   "cell_type": "code",
   "execution_count": 2,
   "metadata": {},
   "outputs": [
    {
     "data": {
      "text/plain": [
       "'Results for k-medoids algorithm in table 6.'"
      ]
     },
     "execution_count": 2,
     "metadata": {},
     "output_type": "execute_result"
    }
   ],
   "source": [
    "\"Results for k-medoids algorithm in table 6.\""
   ]
  },
  {
   "cell_type": "code",
   "execution_count": 3,
   "metadata": {},
   "outputs": [],
   "source": [
    "import numpy as np\n",
    "import pickle\n",
    "\n",
    "from basicOperations.manifoldOperations import unsupervised"
   ]
  },
  {
   "cell_type": "code",
   "execution_count": 4,
   "metadata": {},
   "outputs": [],
   "source": [
    "numberSubjects = 91\n",
    "numberChannels = 12\n",
    "numberGestures = 10\n",
    "trialsPerGesture = 36"
   ]
  },
  {
   "cell_type": "code",
   "execution_count": 5,
   "metadata": {},
   "outputs": [],
   "source": [
    "collateData = []\n",
    "LABELS = []\n",
    "\n",
    "for subjectNumber in range(1, 100):\n",
    "    if subjectNumber not in [5, 11, 14, 17, 18, 35, 38, 41]:\n",
    "        name = \"../formattedData/\" + str(subjectNumber) + \".pkl\"\n",
    "        with open(name, \"rb\") as file:\n",
    "            loadedData = pickle.load(file)\n",
    "\n",
    "        Features = loadedData[\"EMG\"]\n",
    "        mean = np.mean(Features, axis = -1)\n",
    "        std = np.std(Features, axis = -1)\n",
    "        normalizedFeatures = (Features - mean[..., np.newaxis])/std[..., np.newaxis]\n",
    "        Labels = loadedData[\"Labels\"]\n",
    "        samples = 2 * loadedData[\"Frequency\"]\n",
    "\n",
    "        gesturesLabels = np.zeros((numberGestures * trialsPerGesture, numberChannels, numberChannels))\n",
    "        for i in range(numberGestures * trialsPerGesture):\n",
    "            gesturesLabels[i] = (1/samples) * normalizedFeatures[i, :, :] @ normalizedFeatures[i, :, :].T\n",
    "        \n",
    "        collateData.append(gesturesLabels)\n",
    "        LABELS.append(Labels)"
   ]
  },
  {
   "cell_type": "code",
   "execution_count": 6,
   "metadata": {},
   "outputs": [
    {
     "name": "stdout",
     "output_type": "stream",
     "text": [
      "(91, 360, 12, 12)\n",
      "(91, 360)\n"
     ]
    }
   ],
   "source": [
    "collateData = np.array(collateData)\n",
    "LABELS = np.array(LABELS)\n",
    "print(collateData.shape)\n",
    "print(LABELS.shape)"
   ]
  },
  {
   "cell_type": "code",
   "execution_count": 7,
   "metadata": {},
   "outputs": [],
   "source": [
    "kMedoids = unsupervised()"
   ]
  },
  {
   "cell_type": "code",
   "execution_count": 8,
   "metadata": {},
   "outputs": [],
   "source": [
    "corrects = np.zeros((numberSubjects))"
   ]
  },
  {
   "cell_type": "code",
   "execution_count": 9,
   "metadata": {},
   "outputs": [],
   "source": [
    "for subject in range(numberSubjects):\n",
    "    kmedoids = kMedoids.kMedoids(collateData[subject].reshape(-1, numberChannels, numberChannels), numberChannels, numberGestures)\n",
    "    clusterLabels = kmedoids.labels_\n",
    "    medoidIndices = kmedoids.medoid_indices_\n",
    "    medoidLabels = LABELS[subject, medoidIndices]\n",
    "\n",
    "    assignedLabels = np.zeros((numberGestures * trialsPerGesture))\n",
    "    for i in range(numberGestures * trialsPerGesture):\n",
    "        assignedLabels[i] = medoidLabels[clusterLabels[i]]\n",
    "    corrects[subject] = np.mean(assignedLabels == LABELS[subject])"
   ]
  },
  {
   "cell_type": "code",
   "execution_count": 10,
   "metadata": {},
   "outputs": [
    {
     "name": "stdout",
     "output_type": "stream",
     "text": [
      "0.503\n",
      "0.747\n",
      "0.486\n",
      "0.867\n",
      "0.378\n",
      "0.708\n",
      "0.192\n",
      "0.578\n",
      "0.408\n",
      "0.511\n",
      "0.361\n",
      "0.631\n",
      "0.181\n",
      "0.900\n",
      "0.558\n",
      "0.861\n",
      "0.525\n",
      "0.358\n",
      "0.650\n",
      "0.183\n",
      "0.822\n",
      "0.797\n",
      "0.925\n",
      "0.661\n",
      "0.972\n",
      "0.475\n",
      "0.367\n",
      "0.592\n",
      "0.797\n",
      "0.983\n",
      "0.714\n",
      "0.908\n",
      "0.797\n",
      "0.589\n",
      "0.411\n",
      "0.197\n",
      "0.589\n",
      "0.828\n",
      "0.783\n",
      "0.261\n",
      "0.672\n",
      "0.172\n",
      "0.281\n",
      "0.417\n",
      "0.767\n",
      "0.739\n",
      "0.867\n",
      "0.894\n",
      "0.711\n",
      "0.711\n",
      "0.794\n",
      "0.753\n",
      "0.739\n",
      "0.619\n",
      "0.622\n",
      "0.931\n",
      "0.725\n",
      "0.644\n",
      "0.497\n",
      "0.758\n",
      "0.853\n",
      "0.347\n",
      "0.611\n",
      "0.717\n",
      "0.717\n",
      "0.703\n",
      "0.914\n",
      "0.258\n",
      "0.533\n",
      "0.828\n",
      "0.678\n",
      "0.986\n",
      "0.714\n",
      "0.939\n",
      "0.475\n",
      "0.608\n",
      "0.600\n",
      "0.739\n",
      "0.625\n",
      "0.875\n",
      "0.739\n",
      "0.933\n",
      "0.736\n",
      "0.556\n",
      "0.700\n",
      "0.358\n",
      "0.706\n",
      "0.728\n",
      "0.761\n",
      "0.231\n",
      "0.581\n",
      "0.639\n"
     ]
    }
   ],
   "source": [
    "for i in range(numberSubjects):\n",
    "    print(\"{:.3f}\".format(corrects[i]))\n",
    "print(\"{:.3f}\".format(np.mean(corrects)))"
   ]
  },
  {
   "cell_type": "code",
   "execution_count": 11,
   "metadata": {},
   "outputs": [
    {
     "name": "stdout",
     "output_type": "stream",
     "text": [
      "0.6386446886446887\n"
     ]
    }
   ],
   "source": [
    "print(np.mean(corrects))"
   ]
  }
 ],
 "metadata": {
  "kernelspec": {
   "display_name": "emgSpeech",
   "language": "python",
   "name": "python3"
  },
  "language_info": {
   "codemirror_mode": {
    "name": "ipython",
    "version": 3
   },
   "file_extension": ".py",
   "mimetype": "text/x-python",
   "name": "python",
   "nbconvert_exporter": "python",
   "pygments_lexer": "ipython3",
   "version": "3.10.14"
  }
 },
 "nbformat": 4,
 "nbformat_minor": 2
}
